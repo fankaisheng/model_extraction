{
 "cells": [
  {
   "cell_type": "code",
   "execution_count": 38,
   "metadata": {},
   "outputs": [],
   "source": [
    "import torch\n",
    "import torchvision\n",
    "import os\n",
    "import torch.nn as nn\n",
    "import torch.nn.functional as F\n",
    "import torch_dct\n",
    "import numpy as np\n",
    "from torch.autograd import Variable\n",
    "import copy\n",
    "from torch.autograd.gradcheck import zero_gradients"
   ]
  },
  {
   "cell_type": "markdown",
   "metadata": {},
   "source": []
  },
  {
   "cell_type": "code",
   "execution_count": 39,
   "metadata": {},
   "outputs": [],
   "source": [
    "class LeNet(nn.Module):\n",
    "    def __init__(self, ch=1, num_classes=10):\n",
    "        super(LeNet, self).__init__()\n",
    "        self.conv1 = nn.Conv2d(ch, 6, 5, padding=2)\n",
    "        self.conv2 = nn.Conv2d(6, 16, 5)\n",
    "        self.fc1 = nn.Linear(16*5*5, 120)\n",
    "        self.fc2 = nn.Linear(120, 84)\n",
    "        self.fc3 = nn.Linear(84, num_classes)\n",
    "\n",
    "    def forward(self, x):\n",
    "        out = F.relu(self.conv1(x))\n",
    "        out = F.max_pool2d(out, 2)\n",
    "        out = F.relu(self.conv2(out))\n",
    "        out = F.max_pool2d(out, 2)\n",
    "        out = out.view(out.size(0), -1)\n",
    "        out = F.relu(self.fc1(out))\n",
    "        out = F.relu(self.fc2(out))\n",
    "        out = self.fc3(out)\n",
    "        return out"
   ]
  },
  {
   "cell_type": "code",
   "execution_count": 40,
   "metadata": {},
   "outputs": [],
   "source": [
    "class TransformLayer(torch.nn.Module):\n",
    "\n",
    "    def __init__(self, mean, std):\n",
    "        super().__init__()\n",
    "        self.mean = torch.nn.Parameter(mean, requires_grad=False)\n",
    "        self.std = torch.nn.Parameter(std, requires_grad=False)\n",
    "\n",
    "    def forward(self, x):\n",
    "        return x.sub(self.mean).div(self.std)"
   ]
  },
  {
   "cell_type": "code",
   "execution_count": 41,
   "metadata": {},
   "outputs": [
    {
     "data": {
      "text/plain": [
       "<All keys matched successfully>"
      ]
     },
     "execution_count": 41,
     "metadata": {},
     "output_type": "execute_result"
    }
   ],
   "source": [
    "BATCH_SIZE = 128\n",
    "trainset = torchvision.datasets.MNIST(root='./Datasets', download=True, train=True, transform=torchvision.transforms.ToTensor())\n",
    "testset = torchvision.datasets.MNIST(root='./Datasets', download=True, train=False, transform=torchvision.transforms.ToTensor())\n",
    "trainloader = torch.utils.data.DataLoader(trainset, batch_size=BATCH_SIZE, shuffle=True)\n",
    "testloader = torch.utils.data.DataLoader(testset, batch_size=BATCH_SIZE, shuffle=True)\n",
    "mean = torch.tensor([0.1307])[None, :, None, None]\n",
    "std = torch.tensor([0.3081])[None, :, None, None]\n",
    "trans = TransformLayer(mean=mean, std=std)\n",
    "model = LeNet()\n",
    "model_dir = 'Models/Pretrained/MNIST/LeNet/model.pth'\n",
    "model.load_state_dict(torch.load(model_dir))"
   ]
  },
  {
   "cell_type": "code",
   "execution_count": 42,
   "metadata": {},
   "outputs": [],
   "source": [
    "def generate_subspace_list(subspace_dim, dim, subspace_step, channels):\n",
    "    \"\"\"\n",
    "    subspace_dim = 8 用于定义子空间的维度, 即8*8的子空间矩阵\n",
    "    dim = 28 图像的维度, 即28*28的图像矩阵\n",
    "    subspace_step = 1 子空间步长\n",
    "    channels = 1 通道数\n",
    "    \"\"\"\n",
    "    subspace_list = []\n",
    "    # 初始化一个空的子空间列表（subspace_list）用于存储生成的子空间矩阵\n",
    "    \n",
    "    idx_i = 0\n",
    "    idx_j = 0\n",
    "    # 设置两个索引变量idx_i和idx_j的初始值为0，用于迭代遍历图像的行和列。\n",
    "\n",
    "    while (idx_i + subspace_dim - 1 <= dim - 1) and (idx_j + subspace_dim - 1 <= dim - 1):\n",
    "        # 这个循环用于生成不重叠的子空间，确保子空间的维度不超过图像的边界\n",
    "\n",
    "        S = torch.zeros((subspace_dim, subspace_dim, dim, dim), dtype=torch.float32)\n",
    "        #在循环中，首先创建一个空的四维张量S，其形状为(subspace_dim, subspace_dim, dim, dim)\n",
    "        # 这个张量将用于存储子空间中的离散余弦变换系数。\n",
    "        \"\"\"\n",
    "        对于8*8的子空间, 遍历每个子空间的位置即64个位置, 每个位置都创建一个28*28的矩阵\n",
    "        且对于这64个28*28的矩阵, 每个矩阵中只有一个元素为1, 其余全为0\n",
    "        该过程其实是在子空间中的每个位置创建一个单位脉冲信号。\n",
    "        单位脉冲信号是一个具有单个非零值(通常为1)的向量或矩阵,其他位置都为零。 \n",
    "        \"\"\"\n",
    "        for i in range(subspace_dim):\n",
    "            for j in range(subspace_dim):\n",
    "                dirac = torch.zeros((dim, dim), dtype=torch.float32)\n",
    "                dirac[idx_i + i, idx_j + j] = 1.\n",
    "                \"\"\"\n",
    "                dirac表示单位脉冲信号 用于表示子空间中的一个基础元素\n",
    "                dirac是一个28*28的矩阵 且只有一个位置为1 其余为0\n",
    "                idx_i 与 idx_j 相等  \n",
    "                在一个循环内 从(idx_i, idx_j)开始 (idx_i+8, idx_j+8)结束\n",
    "                \"\"\"\n",
    "                \n",
    "                S[i, j] = torch_dct.idct_2d(dirac, norm='ortho')\n",
    "                #使用torch_dct.idct_2d函数对单位脉冲信号进行二维离散余弦变换\n",
    "                #对一个 28x28 的图像进行二维离散余弦变换后的离散余弦变换矩阵的大小为 28x28\n",
    "                # 离散余弦变换矩阵中的每个元素表示不同频率成分的权重或系数\n",
    "        \n",
    "\n",
    "        Sp = S.view(subspace_dim * subspace_dim, dim * dim)\n",
    "        Sp = Sp.t() # 进行转置操作\n",
    "        subspace_list.append(Sp)\n",
    "        # 每一个sp是 (784,64)维度的矩阵\n",
    "        idx_i += subspace_step\n",
    "        idx_j += subspace_step\n",
    "    # 对于28*28的矩阵，划分8*8的非重叠子空间，从0开始，每次行和列移动1格，最终得到21个8*8的非重叠子空间\n",
    "    return subspace_list\n",
    "\n",
    "\n"
   ]
  },
  {
   "cell_type": "code",
   "execution_count": 43,
   "metadata": {},
   "outputs": [],
   "source": [
    "def subspace_deepfool(im, model, trans, num_classes=10, overshoot=0.02, max_iter=100, Sp=None):\n",
    "    \"\"\" \n",
    "    输入图像'im'\n",
    "    模型'model'\n",
    "    数据转换函数'trans'以及其他可选参数作为输入\n",
    "    \"\"\"\n",
    "    image = copy.deepcopy(im)\n",
    "    input_shape = image.size()\n",
    "\n",
    "    f_image = model(trans(Variable(image, requires_grad=True))).view((-1,))\n",
    "    I = f_image.argsort(descending=True)\n",
    "    I = I[0:num_classes]\n",
    "    label_orig = I[0]\n",
    "    # 得到模型对该图像的预测标签\n",
    "\n",
    "    pert_image = copy.deepcopy(image)\n",
    "    # 创建一个图像副本用于存储扰动后的图像\n",
    "\n",
    "    r = torch.zeros(input_shape)\n",
    "    # 创建一个全零张量r，用于存储最终生成的对抗扰动\n",
    "\n",
    "    label_pert = label_orig\n",
    "    loop_i = 0\n",
    "    # 初始化扰动后的标签为原始标签，设置迭代计数器为0\n",
    "\n",
    "    while label_pert == label_orig and loop_i < max_iter:\n",
    "        # 进入迭代循环，直到扰动后的标签不等于原始标签或达到最大迭代次数为止\n",
    "        x = Variable(pert_image, requires_grad=True)\n",
    "        fs = model(trans(x))\n",
    "\n",
    "        pert = torch.Tensor([np.inf])[0]\n",
    "        # 创建一个初始扰动pert，初始化为正无穷大。\n",
    "        w = torch.zeros(input_shape)\n",
    "        # 创建一个与输入图像相同大小的全零张量w\n",
    "\n",
    "        fs[0, I[0]].backward(retain_graph=True)\n",
    "        # 对模型输出fs的第一个标签（原始标签）进行反向传播，计算关于输入x的梯度\n",
    "        grad_orig = copy.deepcopy(x.grad.data)\n",
    "        # 将计算得到的梯度x.grad.data进行深拷贝，存储在grad_orig中\n",
    "\n",
    "        for k in range(1, num_classes):\n",
    "            zero_gradients(x)\n",
    "            # 将输入x的梯度清零\n",
    "\n",
    "            fs[0, I[k]].backward(retain_graph=True)\n",
    "            # 对模型输出fs的第k个标签进行反向传播 计算关于输入x的梯度。\n",
    "            cur_grad = copy.deepcopy(x.grad.data)\n",
    "            # 将计算得到的梯度x.grad.data进行深拷贝 存储在cur_grad中\n",
    "\n",
    "            w_k = cur_grad - grad_orig\n",
    "            # 计算权重差值w_k 即当前梯度与原始梯度的差值。\n",
    "            f_k = (fs[0, I[k]] - fs[0, I[0]]).data\n",
    "            # 计算输出差值f_k 即当前标签的输出值与原始标签的输出值之差。\n",
    "            if Sp is None:\n",
    "                pert_k = torch.abs(f_k) / w_k.norm()\n",
    "            else:\n",
    "                pert_k = torch.abs(f_k) / torch.matmul(Sp.t(), w_k.view([-1, 1])).norm()\n",
    "                # Sp.t() 是对Sp矩阵求转置，得到了真正的64个二维离散余弦变换矩阵\n",
    "                # w_k.view([-1, 1]) 表示将权重差值 w_k 进行形状变换，变为一个(784,1)的矩阵\n",
    "                # 两者相乘 得到(64,1)的矩阵，这样784维的特征转换为64维特征，计算在64维空间上的对抗扰动\n",
    "            if pert_k < pert:\n",
    "                pert = pert_k + 0.\n",
    "                w = w_k + 0.\n",
    "\n",
    "        if Sp is not None:\n",
    "            w = torch.matmul(Sp, torch.matmul(Sp.t(), w.view([-1, 1]))).reshape(w.shape)\n",
    "\n",
    "        r_i = torch.clamp(pert, min=1e-4) * w / w.norm()\n",
    "        r = r + r_i\n",
    "\n",
    "        pert_image = pert_image + r_i\n",
    "\n",
    "        label_pert = torch.argmax(model(trans(Variable(image + (1 + overshoot) * r, requires_grad=False))).data).item()\n",
    "\n",
    "        loop_i += 1\n",
    "\n",
    "    return (1 + overshoot) * r, loop_i, label_orig, label_pert, image + (1 + overshoot) * r\n"
   ]
  },
  {
   "cell_type": "code",
   "execution_count": 44,
   "metadata": {},
   "outputs": [],
   "source": [
    "def compute_margin_distribution(model, trans, dataloader, subspace_list, path=None, proc_fun=None):\n",
    "    margins = []\n",
    "    # 初始化一个空的列表 margins 用于存储边界值\n",
    "\n",
    "    print('Measuring margin distribution...')\n",
    "    for s, Sp in enumerate(subspace_list):\n",
    "        sp_margin = []\n",
    "        # 创建一个空的列表 sp_margin 用于存储当前子空间下的边界值\n",
    "\n",
    "        # 共21个子空间，在这21个子空间下计算边界值\n",
    "        for inputs, targets in dataloader:\n",
    "            adv_perts = torch.zeros_like(inputs)\n",
    "            for n, im in enumerate(inputs):\n",
    "                # im 是每个(28, 28)的图像\n",
    "                adv_perts[n], _, _, _, _ = subspace_deepfool(im, model, trans, Sp=Sp)\n",
    "                # 输入的数据 im为(1,28,28)的图像，Sp为(784,64)的子空间\n",
    "                \n",
    "            sp_margin.append(adv_perts.cpu().view([-1, np.prod(inputs.shape[1:])]).norm(dim=[1]))\n",
    "        \n",
    "        sp_margin = torch.cat(sp_margin)\n",
    "        margins.append(sp_margin.numpy())\n",
    "        print('Subspace %d:\\tMedian margin: %5.5f' % (s, np.median(sp_margin)))\n",
    "    \n",
    "    np.save(path, margins)\n",
    "    return np.array(margins)"
   ]
  },
  {
   "cell_type": "code",
   "execution_count": 47,
   "metadata": {},
   "outputs": [],
   "source": [
    "SUBSPACE_DIM = 8\n",
    "DIM = 28\n",
    "SUBSPACE_STEP = 1\n",
    "\n",
    "subspace_list = generate_subspace_list(SUBSPACE_DIM, DIM, SUBSPACE_STEP, channels=1)\n",
    "# 该子空间列表共21个元素,每个元素是一个784x64的二维张量\n",
    "# 每个元素是一个8*8的子空间，且每个8*8的子空间中的每个位置由一个28*28的经二维离散余弦变换的单位脉冲信号表示\n",
    "# 即每个位置原本是一个28*28的one-hot编码的单位脉冲信号，经二维离散余弦变换得到单位脉冲在频域的表示，即离散余弦变换系数。\n",
    "# 这些系数反映了单位脉冲在不同频率上的分量，对应于图像中不同频率的特征。\n",
    "# 而28*28的图像经二维离散余弦变换后得到的是28*28的离散余弦变换矩阵，离散余弦变换将图像从时域转换到频域\n",
    "# 相当于得到28*28共784个频率，对应每个频率的振幅强度\n",
    "# 所以究竟有多少个子空间？\n",
    "\n",
    "# 随机选择100个样本\n",
    "NUM_SAMPLES_EVAL = 100\n",
    "indices = np.random.choice(len(testset), NUM_SAMPLES_EVAL, replace=False)\n",
    "eval_dataset = torch.utils.data.Subset(testset, indices[:NUM_SAMPLES_EVAL])\n",
    "eval_loader = torch.utils.data.DataLoader(eval_dataset, batch_size=BATCH_SIZE,shuffle=False)"
   ]
  },
  {
   "cell_type": "code",
   "execution_count": 46,
   "metadata": {},
   "outputs": [
    {
     "name": "stdout",
     "output_type": "stream",
     "text": [
      "Measuring margin distribution...\n"
     ]
    }
   ],
   "source": [
    "margins = compute_margin_distribution(model, trans, eval_loader, subspace_list)"
   ]
  },
  {
   "cell_type": "code",
   "execution_count": 33,
   "metadata": {},
   "outputs": [
    {
     "data": {
      "image/png": "[encoded data removed]",
      "text/plain": [
       "<Figure size 720x288 with 1 Axes>"
      ]
     },
     "metadata": {
      "needs_background": "light"
     },
     "output_type": "display_data"
    }
   ],
   "source": [
    "from graphics import swarmplot\n",
    "swarmplot(margins, color='tab:blue')"
   ]
  },
  {
   "cell_type": "code",
   "execution_count": null,
   "metadata": {},
   "outputs": [],
   "source": []
  }
 ],
 "metadata": {
  "kernelspec": {
   "display_name": "base",
   "language": "python",
   "name": "python3"
  },
  "language_info": {
   "codemirror_mode": {
    "name": "ipython",
    "version": 3
   },
   "file_extension": ".py",
   "mimetype": "text/x-python",
   "name": "python",
   "nbconvert_exporter": "python",
   "pygments_lexer": "ipython3",
   "version": "3.8.2"
  },
  "orig_nbformat": 4
 },
 "nbformat": 4,
 "nbformat_minor": 2
}
